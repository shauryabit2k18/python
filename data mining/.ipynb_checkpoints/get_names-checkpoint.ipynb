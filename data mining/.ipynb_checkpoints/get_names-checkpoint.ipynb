{
 "cells": [
  {
   "cell_type": "code",
   "execution_count": 90,
   "metadata": {},
   "outputs": [
    {
     "name": "stderr",
     "output_type": "stream",
     "text": [
      "c:\\users\\shaurya sinha\\appdata\\local\\programs\\python\\python36\\lib\\site-packages\\ipykernel_launcher.py:19: DeprecationWarning: use options instead of chrome_options\n"
     ]
    },
    {
     "name": "stdout",
     "output_type": "stream",
     "text": [
      "22 scrolldown will be done.\n",
      "300 scrolldown will be done.\n"
     ]
    },
    {
     "ename": "IndexError",
     "evalue": "list index out of range",
     "output_type": "error",
     "traceback": [
      "\u001b[1;31m---------------------------------------------------------------------------\u001b[0m",
      "\u001b[1;31mIndexError\u001b[0m                                Traceback (most recent call last)",
      "\u001b[1;32m<ipython-input-90-808c81ee2eeb>\u001b[0m in \u001b[0;36m<module>\u001b[1;34m\u001b[0m\n\u001b[0;32m     57\u001b[0m \u001b[1;32mfor\u001b[0m \u001b[0mrow\u001b[0m \u001b[1;32min\u001b[0m \u001b[0murl\u001b[0m\u001b[1;33m:\u001b[0m\u001b[1;33m\u001b[0m\u001b[0m\n\u001b[0;32m     58\u001b[0m     \u001b[1;32mfor\u001b[0m \u001b[0mi\u001b[0m \u001b[1;32min\u001b[0m \u001b[0mrange\u001b[0m\u001b[1;33m(\u001b[0m\u001b[0mlen\u001b[0m\u001b[1;33m(\u001b[0m\u001b[0mrow\u001b[0m\u001b[1;33m)\u001b[0m \u001b[1;33m+\u001b[0m \u001b[1;36m1\u001b[0m\u001b[1;33m)\u001b[0m\u001b[1;33m:\u001b[0m\u001b[1;33m\u001b[0m\u001b[0m\n\u001b[1;32m---> 59\u001b[1;33m         \u001b[0mdriver\u001b[0m\u001b[1;33m.\u001b[0m\u001b[0mget\u001b[0m\u001b[1;33m(\u001b[0m\u001b[0mrow\u001b[0m\u001b[1;33m[\u001b[0m\u001b[0mi\u001b[0m\u001b[1;33m]\u001b[0m\u001b[1;33m)\u001b[0m\u001b[1;33m\u001b[0m\u001b[0m\n\u001b[0m\u001b[0;32m     60\u001b[0m \u001b[1;33m\u001b[0m\u001b[0m\n\u001b[0;32m     61\u001b[0m         \u001b[1;31m#Scroll the webpage\u001b[0m\u001b[1;33m\u001b[0m\u001b[1;33m\u001b[0m\u001b[0m\n",
      "\u001b[1;31mIndexError\u001b[0m: list index out of range"
     ]
    }
   ],
   "source": [
    "from selenium import webdriver\n",
    "from selenium.webdriver.chrome.options import Options\n",
    "from selenium.webdriver.common.keys import Keys \n",
    "from bs4 import BeautifulSoup\n",
    "import pandas as pd\n",
    "import csv\n",
    "import time\n",
    "import re\n",
    "\n",
    "option = Options()\n",
    "\n",
    "option.add_argument(\"--disable-infobars\")\n",
    "option.add_argument(\"start-maximized\")\n",
    "option.add_argument(\"--disable-extensions\")\n",
    "\n",
    "# to block notification\n",
    "option.add_experimental_option(\"prefs\" , {\"profile.default_content_setting_values.notifications\": 1})\n",
    "\n",
    "driver = webdriver.Chrome(chrome_options = option , executable_path=r'C:\\Users\\Shaurya Sinha\\Desktop\\cse2k19\\project\\hacathon1\\chromedriver.exe')\n",
    "\n",
    "links=[]\n",
    "id=[]\n",
    "link_text = \"\"\n",
    "\n",
    "\n",
    "with open('urls.csv', 'rt') as f:\n",
    "    reader = csv.reader(f)\n",
    "    url = list(reader)\n",
    "for row in url:\n",
    "        driver.get(row[0])\n",
    "        username = driver.find_element_by_name('email')\n",
    "        username.send_keys('9662531679')\n",
    "\n",
    "        password = driver.find_element_by_name('pass')\n",
    "        password.send_keys('Pillowcover@1')\n",
    "\n",
    "        driver.find_element_by_name(\"login\").click()\n",
    "\n",
    "        #Scroll the webpage\n",
    "        ScrollNumber=22 #max scrolls\n",
    "        print(str(ScrollNumber)+ \" scrolldown will be done.\")\n",
    "        for i in range(1,ScrollNumber):  #scroll down X times\n",
    "            driver.execute_script(\"window.scrollTo(0, document.body.scrollHeight);\")\n",
    "            time.sleep(1) #Delay between 2 scrolls down to be sure the page loaded\n",
    "\n",
    "        content = driver.page_source\n",
    "        # print(content)\n",
    "        soup = BeautifulSoup(content,'html.parser')\n",
    "        # print(soup)\n",
    "        for x in soup.find_all('div' , attrs = {'class':'_60ri' }):\n",
    "        #     print(type(x))\n",
    "        #     print(x)\n",
    "            link=x.find('a')\n",
    "            links.append(link.get('href'))\n",
    "        break\n",
    "        \n",
    "for row in url:\n",
    "    for i in range(len(row)):\n",
    "        if(i<=range(len(row))):\n",
    "            driver.get(row[i+1])\n",
    "\n",
    "            #Scroll the webpage\n",
    "            ScrollNumber=300 #max scrolls\n",
    "            print(str(ScrollNumber)+ \" scrolldown will be done.\")\n",
    "            for i in range(1,ScrollNumber):  #scroll down X times\n",
    "                driver.execute_script(\"window.scrollTo(0, document.body.scrollHeight);\")\n",
    "                time.sleep(0) #Delay between 2 scrolls down to be sure the page loaded\n",
    "\n",
    "            content = driver.page_source\n",
    "            # print(content)\n",
    "            soup = BeautifulSoup(content,'html.parser')\n",
    "            # print(soup)\n",
    "            for x in soup.find_all('div' , attrs = {'class':'_60ri' }):\n",
    "            #     print(type(x))\n",
    "            #     print(x)\n",
    "                link=x.find('a')\n",
    "                links.append(link.get('href'))\n",
    "            i = i+1\n",
    "\n",
    "# print ('Link: ' + link_text)\n",
    "\n",
    "df = pd.DataFrame({'links' : links} )\n",
    "df.to_csv('links.csv' , index = False , encoding='utf-8')"
   ]
  },
  {
   "cell_type": "code",
   "execution_count": null,
   "metadata": {},
   "outputs": [],
   "source": []
  },
  {
   "cell_type": "code",
   "execution_count": null,
   "metadata": {},
   "outputs": [],
   "source": []
  }
 ],
 "metadata": {
  "kernelspec": {
   "display_name": "Python 3",
   "language": "python",
   "name": "python3"
  },
  "language_info": {
   "codemirror_mode": {
    "name": "ipython",
    "version": 3
   },
   "file_extension": ".py",
   "mimetype": "text/x-python",
   "name": "python",
   "nbconvert_exporter": "python",
   "pygments_lexer": "ipython3",
   "version": "3.6.6"
  }
 },
 "nbformat": 4,
 "nbformat_minor": 2
}
